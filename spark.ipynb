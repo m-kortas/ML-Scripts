{
 "cells": [
  {
   "cell_type": "code",
   "execution_count": null,
   "metadata": {
    "colab": {},
    "colab_type": "code",
    "id": "vf17N3KFGd8t"
   },
   "outputs": [],
   "source": [
    "!apt-get install openjdk-8-jdk-headless -qq > /dev/null\n",
    "!wget -q https://www-us.apache.org/dist/spark/spark-2.4.3/spark-2.4.3-bin-hadoop2.7.tgz\n",
    "!tar xf spark-2.4.3-bin-hadoop2.7.tgz\n",
    "!pip install -q findspark\n",
    "import os\n",
    "os.environ[\"JAVA_HOME\"] = \"/usr/lib/jvm/java-8-openjdk-amd64\"\n",
    "os.environ[\"SPARK_HOME\"] = \"/content/spark-2.4.3-bin-hadoop2.7\"\n",
    "import findspark\n",
    "findspark.init()"
   ]
  },
  {
   "cell_type": "code",
   "execution_count": null,
   "metadata": {
    "colab": {},
    "colab_type": "code",
    "id": "yB_MItdYGmZk"
   },
   "outputs": [],
   "source": [
    "from pyspark.sql import SparkSession\n",
    "from pyspark.sql.types import IntegerType\n",
    "from pyspark.sql.types import DoubleType\n",
    "spark = SparkSession.builder \\\n",
    "    .master(\"local\") \\\n",
    "    .appName(\"Word Count\") \\\n",
    "    .getOrCreate()"
   ]
  },
  {
   "cell_type": "code",
   "execution_count": null,
   "metadata": {
    "colab": {},
    "colab_type": "code",
    "id": "Oj-2MEKsGzBj"
   },
   "outputs": [],
   "source": [
    "data = spark.read.csv('1.csv',inferSchema=True, header =True)"
   ]
  },
  {
   "cell_type": "code",
   "execution_count": null,
   "metadata": {
    "colab": {
     "base_uri": "https://localhost:8080/",
     "height": 34
    },
    "colab_type": "code",
    "id": "hmVPc-Gn8AAp",
    "outputId": "f40b0924-a2df-48c4-eff3-441a3bbae5e1"
   },
   "outputs": [],
   "source": [
    "data.count(), len(data.columns)"
   ]
  },
  {
   "cell_type": "code",
   "execution_count": null,
   "metadata": {
    "colab": {
     "base_uri": "https://localhost:8080/",
     "height": 323
    },
    "colab_type": "code",
    "id": "hy5hh7IUXSj0",
    "outputId": "4b1cb3da-9a9f-46d0-a08d-0b6d701ee541"
   },
   "outputs": [],
   "source": [
    "data.printSchema()"
   ]
  },
  {
   "cell_type": "code",
   "execution_count": null,
   "metadata": {
    "colab": {
     "base_uri": "https://localhost:8080/",
     "height": 374
    },
    "colab_type": "code",
    "id": "CYdqE-WXhIUK",
    "outputId": "5c84e4dc-66c2-487d-988e-975b54f62074"
   },
   "outputs": [],
   "source": [
    "data.select(\"1\").show(15, truncate=False)"
   ]
  },
  {
   "cell_type": "code",
   "execution_count": null,
   "metadata": {
    "colab": {
     "base_uri": "https://localhost:8080/",
     "height": 187
    },
    "colab_type": "code",
    "id": "ViA9w7jHDmfI",
    "outputId": "fcda4beb-f512-4c01-fb54-8cf9e521d757"
   },
   "outputs": [],
   "source": [
    "data.describe([\"1\"]).show()"
   ]
  },
  {
   "cell_type": "code",
   "execution_count": null,
   "metadata": {
    "colab": {
     "base_uri": "https://localhost:8080/",
     "height": 629
    },
    "colab_type": "code",
    "id": "LLJjO4t0S84d",
    "outputId": "d5c61870-ab68-4253-f9f6-9565d0d4b993"
   },
   "outputs": [],
   "source": [
    "data.groupBy(\"1\").count().show(50)"
   ]
  },
  {
   "cell_type": "code",
   "execution_count": null,
   "metadata": {
    "colab": {
     "base_uri": "https://localhost:8080/",
     "height": 289
    },
    "colab_type": "code",
    "id": "3LeONo26Exfh",
    "outputId": "d461987f-3ab2-477f-95f7-bf51e032775e"
   },
   "outputs": [],
   "source": [
    "data.groupBy(\"1\").count().orderBy(\"count\", ascending=False).show(10)"
   ]
  },
  {
   "cell_type": "code",
   "execution_count": null,
   "metadata": {
    "colab": {
     "base_uri": "https://localhost:8080/",
     "height": 969
    },
    "colab_type": "code",
    "id": "QpUW0wGcBfW4",
    "outputId": "22aac76e-7280-41f2-9f39-6fc04be0b4f9"
   },
   "outputs": [],
   "source": [
    "data.groupBy(\"1\").count().orderBy(\"count\",ascending=False).show(50,False)"
   ]
  },
  {
   "cell_type": "code",
   "execution_count": null,
   "metadata": {
    "colab": {
     "base_uri": "https://localhost:8080/",
     "height": 394
    },
    "colab_type": "code",
    "id": "xNhthIIIkDxG",
    "outputId": "6f183037-70a9-43b9-ad97-26bb8c29183f"
   },
   "outputs": [],
   "source": [
    "condition1 = (data.3.isNotNull()) | (data.3.isNotNull())\n",
    "condition2 = data.3 != \"tbd\"\n",
    "data2 = data.filter(condition1).filter(condition2)\n",
    "data2.show(15,False)"
   ]
  },
  {
   "cell_type": "code",
   "execution_count": null,
   "metadata": {
    "colab": {
     "base_uri": "https://localhost:8080/",
     "height": 459
    },
    "colab_type": "code",
    "id": "3LWrofp53Kbq",
    "outputId": "b732978d-d3a8-4740-a1c4-e72d1718b0ea"
   },
   "outputs": [],
   "source": [
    "data.select(\"1\").filter(data.3 == \"tbd\").show(truncate=False)"
   ]
  },
  {
   "cell_type": "code",
   "execution_count": null,
   "metadata": {
    "colab": {
     "base_uri": "https://localhost:8080/",
     "height": 187
    },
    "colab_type": "code",
    "id": "mxNyEJWdEDc7",
    "outputId": "f7afa359-760c-4b0d-b191-b423a504a8c3"
   },
   "outputs": [],
   "source": [
    "data2.select(\"1\").describe([\"2\"]).show()"
   ]
  },
  {
   "cell_type": "code",
   "execution_count": null,
   "metadata": {
    "colab": {
     "base_uri": "https://localhost:8080/",
     "height": 374
    },
    "colab_type": "code",
    "id": "esN-k8kgHdPM",
    "outputId": "b9c4fae1-953b-4fe4-c549-cc530ad70672"
   },
   "outputs": [],
   "source": [
    "data2.select(\"1\").orderBy(\"2\", ascending=False).show(15, truncate=False)"
   ]
  },
  {
   "cell_type": "code",
   "execution_count": null,
   "metadata": {
    "colab": {
     "base_uri": "https://localhost:8080/",
     "height": 544
    },
    "colab_type": "code",
    "id": "b7kDd-wSsCF5",
    "outputId": "562f6974-9640-48df-8e83-d62a8b998613"
   },
   "outputs": [],
   "source": [
    "data2.select(\"1\").distinct().orderBy(\"2\", ascending=True).show(50,False)"
   ]
  },
  {
   "cell_type": "code",
   "execution_count": null,
   "metadata": {
    "colab": {
     "base_uri": "https://localhost:8080/",
     "height": 459
    },
    "colab_type": "code",
    "id": "4NyZ4AmmsRhQ",
    "outputId": "db0713a8-c3c0-45fd-9b5e-8d8386398a5c"
   },
   "outputs": [],
   "source": [
    "data2.groupBy(\"1\").count().orderBy(\"count\",ascending=False).show()"
   ]
  },
  {
   "cell_type": "code",
   "execution_count": null,
   "metadata": {
    "colab": {
     "base_uri": "https://localhost:8080/",
     "height": 527
    },
    "colab_type": "code",
    "id": "7g2iTUi2t4hn",
    "outputId": "d35843e0-ec25-4ad2-a9ca-da5f92aa076e"
   },
   "outputs": [],
   "source": [
    "data2 = data2.filter(data2.3 != \"N/A\")\n",
    "data2.select(\"1\").distinct().orderBy(\"2\", ascending=True).show(50,False)"
   ]
  },
  {
   "cell_type": "code",
   "execution_count": null,
   "metadata": {
    "colab": {
     "base_uri": "https://localhost:8080/",
     "height": 289
    },
    "colab_type": "code",
    "id": "O4CKcb54uPkl",
    "outputId": "f8793cce-5dd8-4dd6-cbee-a6824d421388"
   },
   "outputs": [],
   "source": [
    "data2 = data2.withColumn(\"1\", data2[\"2\"].cast(DoubleType()))"
   ]
  }
 ],
 "metadata": {
  "colab": {
   "collapsed_sections": [],
   "name": "Neanderthal's Guide to Apache Spark.ipynb",
   "provenance": [],
   "version": "0.3.2"
  },
  "kernelspec": {
   "display_name": "Python 3",
   "language": "python",
   "name": "python3"
  },
  "language_info": {
   "codemirror_mode": {
    "name": "ipython",
    "version": 3
   },
   "file_extension": ".py",
   "mimetype": "text/x-python",
   "name": "python",
   "nbconvert_exporter": "python",
   "pygments_lexer": "ipython3",
   "version": "3.7.3"
  }
 },
 "nbformat": 4,
 "nbformat_minor": 1
}
