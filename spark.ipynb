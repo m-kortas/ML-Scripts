{
 "cells": [
  {
   "cell_type": "code",
   "execution_count": 1,
   "metadata": {},
   "outputs": [],
   "source": [
    "from pyspark.sql import SparkSession\n",
    "from pyspark.sql.types import IntegerType\n",
    "from pyspark.sql.types import DoubleType\n",
    "spark = SparkSession.builder \\\n",
    "    .master(\"local\") \\\n",
    "    .appName(\"Word Count\") \\\n",
    "    .getOrCreate()"
   ]
  },
  {
   "cell_type": "code",
   "execution_count": 2,
   "metadata": {},
   "outputs": [],
   "source": [
    "data = spark.read.csv('Desktop/train.csv',inferSchema=True, header =True)"
   ]
  },
  {
   "cell_type": "code",
   "execution_count": 3,
   "metadata": {},
   "outputs": [
    {
     "data": {
      "text/plain": [
       "(891, 12)"
      ]
     },
     "execution_count": 3,
     "metadata": {},
     "output_type": "execute_result"
    }
   ],
   "source": [
    "data.count(), len(data.columns)\n"
   ]
  },
  {
   "cell_type": "code",
   "execution_count": 4,
   "metadata": {},
   "outputs": [
    {
     "data": {
      "text/plain": [
       "DataFrame[PassengerId: int, Survived: int, Pclass: int, Name: string, Sex: string, Age: double, SibSp: int, Parch: int, Ticket: string, Fare: double, Cabin: string, Embarked: string]"
      ]
     },
     "execution_count": 4,
     "metadata": {},
     "output_type": "execute_result"
    }
   ],
   "source": [
    "data"
   ]
  },
  {
   "cell_type": "code",
   "execution_count": 5,
   "metadata": {},
   "outputs": [
    {
     "name": "stdout",
     "output_type": "stream",
     "text": [
      "root\n",
      " |-- PassengerId: integer (nullable = true)\n",
      " |-- Survived: integer (nullable = true)\n",
      " |-- Pclass: integer (nullable = true)\n",
      " |-- Name: string (nullable = true)\n",
      " |-- Sex: string (nullable = true)\n",
      " |-- Age: double (nullable = true)\n",
      " |-- SibSp: integer (nullable = true)\n",
      " |-- Parch: integer (nullable = true)\n",
      " |-- Ticket: string (nullable = true)\n",
      " |-- Fare: double (nullable = true)\n",
      " |-- Cabin: string (nullable = true)\n",
      " |-- Embarked: string (nullable = true)\n",
      "\n"
     ]
    }
   ],
   "source": [
    "data.printSchema()\n"
   ]
  },
  {
   "cell_type": "code",
   "execution_count": 6,
   "metadata": {},
   "outputs": [
    {
     "name": "stdout",
     "output_type": "stream",
     "text": [
      "+-------+\n",
      "|Fare   |\n",
      "+-------+\n",
      "|7.25   |\n",
      "|71.2833|\n",
      "|7.925  |\n",
      "|53.1   |\n",
      "|8.05   |\n",
      "|8.4583 |\n",
      "|51.8625|\n",
      "|21.075 |\n",
      "|11.1333|\n",
      "|30.0708|\n",
      "|16.7   |\n",
      "|26.55  |\n",
      "|8.05   |\n",
      "|31.275 |\n",
      "|7.8542 |\n",
      "+-------+\n",
      "only showing top 15 rows\n",
      "\n"
     ]
    }
   ],
   "source": [
    "data.select(\"Fare\").show(15, truncate=False)"
   ]
  },
  {
   "cell_type": "code",
   "execution_count": 7,
   "metadata": {},
   "outputs": [
    {
     "name": "stdout",
     "output_type": "stream",
     "text": [
      "+-------+-----------------+\n",
      "|summary|             Fare|\n",
      "+-------+-----------------+\n",
      "|  count|              891|\n",
      "|   mean| 32.2042079685746|\n",
      "| stddev|49.69342859718089|\n",
      "|    min|              0.0|\n",
      "|    max|         512.3292|\n",
      "+-------+-----------------+\n",
      "\n"
     ]
    }
   ],
   "source": [
    "data.describe([\"Fare\"]).show()\n"
   ]
  },
  {
   "cell_type": "code",
   "execution_count": 8,
   "metadata": {},
   "outputs": [
    {
     "name": "stdout",
     "output_type": "stream",
     "text": [
      "+--------+-----+\n",
      "|    Fare|count|\n",
      "+--------+-----+\n",
      "|  8.5167|    1|\n",
      "|    15.5|    8|\n",
      "|  133.65|    2|\n",
      "|  29.125|    5|\n",
      "| 10.4625|    2|\n",
      "|  7.0458|    1|\n",
      "|   9.475|    1|\n",
      "| 11.1333|    3|\n",
      "|     0.0|   15|\n",
      "|  7.7333|    4|\n",
      "|    73.5|    5|\n",
      "| 77.2875|    2|\n",
      "|    15.9|    2|\n",
      "|    11.5|    4|\n",
      "|  8.6833|    1|\n",
      "| 41.5792|    3|\n",
      "|     9.5|    9|\n",
      "|  8.4042|    1|\n",
      "| 14.4542|    7|\n",
      "| 14.4583|    3|\n",
      "|    8.85|    1|\n",
      "|    38.5|    1|\n",
      "| 27.7208|    5|\n",
      "| 91.0792|    2|\n",
      "|  4.0125|    1|\n",
      "|    46.9|    6|\n",
      "|  7.8292|    2|\n",
      "| 20.2125|    2|\n",
      "| 39.6875|    6|\n",
      "| 13.7917|    1|\n",
      "|   6.975|    2|\n",
      "| 49.5042|    2|\n",
      "|    15.1|    1|\n",
      "| 34.6542|    1|\n",
      "| 57.9792|    2|\n",
      "|  151.55|    4|\n",
      "|  7.7875|    1|\n",
      "|    69.3|    2|\n",
      "|  7.5208|    1|\n",
      "|  31.275|    7|\n",
      "| 14.1083|    1|\n",
      "|    7.65|    4|\n",
      "| 31.3875|    4|\n",
      "|    29.0|    2|\n",
      "|   7.775|   16|\n",
      "|  7.2292|   15|\n",
      "|512.3292|    3|\n",
      "|  83.475|    2|\n",
      "|   18.75|    3|\n",
      "|  8.7125|    1|\n",
      "+--------+-----+\n",
      "only showing top 50 rows\n",
      "\n"
     ]
    }
   ],
   "source": [
    "data.groupBy(\"Fare\").count().show(50)\n"
   ]
  },
  {
   "cell_type": "code",
   "execution_count": 9,
   "metadata": {},
   "outputs": [
    {
     "name": "stdout",
     "output_type": "stream",
     "text": [
      "+------+-----+\n",
      "|  Fare|count|\n",
      "+------+-----+\n",
      "|  8.05|   43|\n",
      "|  13.0|   42|\n",
      "|7.8958|   38|\n",
      "|  7.75|   34|\n",
      "|  26.0|   31|\n",
      "|  10.5|   24|\n",
      "| 7.925|   18|\n",
      "| 7.775|   16|\n",
      "| 26.55|   15|\n",
      "|   0.0|   15|\n",
      "+------+-----+\n",
      "only showing top 10 rows\n",
      "\n"
     ]
    }
   ],
   "source": [
    "data.groupBy(\"Fare\").count().orderBy(\"count\", ascending=False).show(10)\n"
   ]
  },
  {
   "cell_type": "code",
   "execution_count": 10,
   "metadata": {},
   "outputs": [
    {
     "name": "stdout",
     "output_type": "stream",
     "text": [
      "+-----------+--------+------+---------------------------------------------------+------+----+-----+-----+----------------+-------+-----+--------+\n",
      "|PassengerId|Survived|Pclass|Name                                               |Sex   |Age |SibSp|Parch|Ticket          |Fare   |Cabin|Embarked|\n",
      "+-----------+--------+------+---------------------------------------------------+------+----+-----+-----+----------------+-------+-----+--------+\n",
      "|1          |0       |3     |Braund, Mr. Owen Harris                            |male  |22.0|1    |0    |A/5 21171       |7.25   |null |S       |\n",
      "|2          |1       |1     |Cumings, Mrs. John Bradley (Florence Briggs Thayer)|female|38.0|1    |0    |PC 17599        |71.2833|C85  |C       |\n",
      "|3          |1       |3     |Heikkinen, Miss. Laina                             |female|26.0|0    |0    |STON/O2. 3101282|7.925  |null |S       |\n",
      "|4          |1       |1     |Futrelle, Mrs. Jacques Heath (Lily May Peel)       |female|35.0|1    |0    |113803          |53.1   |C123 |S       |\n",
      "|6          |0       |3     |Moran, Mr. James                                   |male  |null|0    |0    |330877          |8.4583 |null |Q       |\n",
      "|7          |0       |1     |McCarthy, Mr. Timothy J                            |male  |54.0|0    |0    |17463           |51.8625|E46  |S       |\n",
      "|8          |0       |3     |Palsson, Master. Gosta Leonard                     |male  |2.0 |3    |1    |349909          |21.075 |null |S       |\n",
      "|9          |1       |3     |Johnson, Mrs. Oscar W (Elisabeth Vilhelmina Berg)  |female|27.0|0    |2    |347742          |11.1333|null |S       |\n",
      "|10         |1       |2     |Nasser, Mrs. Nicholas (Adele Achem)                |female|14.0|1    |0    |237736          |30.0708|null |C       |\n",
      "|11         |1       |3     |Sandstrom, Miss. Marguerite Rut                    |female|4.0 |1    |1    |PP 9549         |16.7   |G6   |S       |\n",
      "|12         |1       |1     |Bonnell, Miss. Elizabeth                           |female|58.0|0    |0    |113783          |26.55  |C103 |S       |\n",
      "|14         |0       |3     |Andersson, Mr. Anders Johan                        |male  |39.0|1    |5    |347082          |31.275 |null |S       |\n",
      "|15         |0       |3     |Vestrom, Miss. Hulda Amanda Adolfina               |female|14.0|0    |0    |350406          |7.8542 |null |S       |\n",
      "|16         |1       |2     |Hewlett, Mrs. (Mary D Kingcome)                    |female|55.0|0    |0    |248706          |16.0   |null |S       |\n",
      "|17         |0       |3     |Rice, Master. Eugene                               |male  |2.0 |4    |1    |382652          |29.125 |null |Q       |\n",
      "+-----------+--------+------+---------------------------------------------------+------+----+-----+-----+----------------+-------+-----+--------+\n",
      "only showing top 15 rows\n",
      "\n"
     ]
    }
   ],
   "source": [
    "condition1 = (data.Fare.isNotNull()) | (data.Fare.isNotNull())\n",
    "condition2 = data.Fare != \"8.05\"\n",
    "data2 = data.filter(condition1).filter(condition2)\n",
    "data2.show(15,False)"
   ]
  },
  {
   "cell_type": "code",
   "execution_count": 11,
   "metadata": {},
   "outputs": [
    {
     "name": "stdout",
     "output_type": "stream",
     "text": [
      "+----+\n",
      "|Fare|\n",
      "+----+\n",
      "|7.65|\n",
      "|7.65|\n",
      "|7.65|\n",
      "|7.65|\n",
      "+----+\n",
      "\n"
     ]
    }
   ],
   "source": [
    "data.select(\"Fare\").filter(data.Fare == \"7.65\").show(truncate=False)\n"
   ]
  },
  {
   "cell_type": "code",
   "execution_count": 12,
   "metadata": {},
   "outputs": [
    {
     "name": "stdout",
     "output_type": "stream",
     "text": [
      "+-------+-----+\n",
      "|   Fare|count|\n",
      "+-------+-----+\n",
      "|   13.0|   42|\n",
      "| 7.8958|   38|\n",
      "|   7.75|   34|\n",
      "|   26.0|   31|\n",
      "|   10.5|   24|\n",
      "|  7.925|   18|\n",
      "|  7.775|   16|\n",
      "|    0.0|   15|\n",
      "|  26.55|   15|\n",
      "| 7.2292|   15|\n",
      "|   7.25|   13|\n",
      "| 8.6625|   13|\n",
      "| 7.8542|   13|\n",
      "|  7.225|   12|\n",
      "|   16.1|    9|\n",
      "|    9.5|    9|\n",
      "|   15.5|    8|\n",
      "|  24.15|    8|\n",
      "|56.4958|    7|\n",
      "|  69.55|    7|\n",
      "+-------+-----+\n",
      "only showing top 20 rows\n",
      "\n"
     ]
    }
   ],
   "source": [
    "data2.groupBy(\"Fare\").count().orderBy(\"count\",ascending=False).show()"
   ]
  },
  {
   "cell_type": "code",
   "execution_count": 13,
   "metadata": {},
   "outputs": [],
   "source": [
    "data2 = data.withColumn(\"1\", data[\"Fare\"].cast(DoubleType()))"
   ]
  },
  {
   "cell_type": "code",
   "execution_count": 14,
   "metadata": {},
   "outputs": [
    {
     "data": {
      "text/plain": [
       "DataFrame[PassengerId: int, Survived: int, Pclass: int, Name: string, Sex: string, Age: double, SibSp: int, Parch: int, Ticket: string, Fare: double, Cabin: string, Embarked: string, 1: double]"
      ]
     },
     "execution_count": 14,
     "metadata": {},
     "output_type": "execute_result"
    }
   ],
   "source": [
    "data2"
   ]
  },
  {
   "cell_type": "code",
   "execution_count": null,
   "metadata": {},
   "outputs": [],
   "source": []
  }
 ],
 "metadata": {
  "kernelspec": {
   "display_name": "Python 3",
   "language": "python",
   "name": "python3"
  },
  "language_info": {
   "codemirror_mode": {
    "name": "ipython",
    "version": 3
   },
   "file_extension": ".py",
   "mimetype": "text/x-python",
   "name": "python",
   "nbconvert_exporter": "python",
   "pygments_lexer": "ipython3",
   "version": "3.8.3"
  }
 },
 "nbformat": 4,
 "nbformat_minor": 4
}
