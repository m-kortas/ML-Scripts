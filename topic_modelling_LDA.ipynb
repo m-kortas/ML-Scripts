{
 "cells": [
  {
   "cell_type": "code",
   "execution_count": 2,
   "metadata": {},
   "outputs": [],
   "source": [
    "import re\n",
    "import numpy as np\n",
    "import pandas as pd\n",
    "\n",
    "import gensim\n",
    "import gensim.corpora as corpora\n",
    "from gensim.utils import simple_preprocess\n",
    "from gensim.models import CoherenceModel\n",
    "\n",
    "import spacy\n",
    "\n",
    "import nltk\n",
    "nltk.download('stopwords')"
   ]
  },
  {
   "cell_type": "code",
   "execution_count": 5,
   "metadata": {},
   "outputs": [],
   "source": [
    "from nltk.corpus import stopwords\n",
    "stop_words = stopwords.words('english')\n",
    "stop_words.extend(['from', 'subject', 're', 'edu', 'use'])"
   ]
  },
  {
   "cell_type": "code",
   "execution_count": 53,
   "metadata": {},
   "outputs": [],
   "source": [
    "f = open(\"doc1.txt\", \"r\")\n",
    "text = f.read()\n",
    "data = [text]"
   ]
  },
  {
   "cell_type": "code",
   "execution_count": 34,
   "metadata": {},
   "outputs": [],
   "source": [
    "def sent_to_words(sentences):\n",
    "    for sentence in sentences:\n",
    "        yield(gensim.utils.simple_preprocess(str(sentence), deacc=True))  # deacc=True removes punctuations\n",
    "\n",
    "data_words = list(sent_to_words(data))"
   ]
  },
  {
   "cell_type": "code",
   "execution_count": 33,
   "metadata": {},
   "outputs": [],
   "source": [
    "bigram = gensim.models.Phrases(data_words, min_count=5, threshold=100) # higher threshold fewer phrases.\n",
    "trigram = gensim.models.Phrases(bigram[data_words], threshold=100)  \n",
    "\n",
    "bigram_mod = gensim.models.phrases.Phraser(bigram)\n",
    "trigram_mod = gensim.models.phrases.Phraser(trigram)"
   ]
  },
  {
   "cell_type": "code",
   "execution_count": 13,
   "metadata": {},
   "outputs": [],
   "source": [
    "def remove_stopwords(texts):\n",
    "    return [[word for word in simple_preprocess(str(doc)) if word not in stop_words] for doc in texts]\n",
    "\n",
    "def make_bigrams(texts):\n",
    "    return [bigram_mod[doc] for doc in texts]\n",
    "\n",
    "def make_trigrams(texts):\n",
    "    return [trigram_mod[bigram_mod[doc]] for doc in texts]\n",
    "\n",
    "def lemmatization(texts, allowed_postags=['NOUN', 'ADJ', 'VERB', 'ADV']):\n",
    "    texts_out = []\n",
    "    for sent in texts:\n",
    "        doc = nlp(\" \".join(sent)) \n",
    "        texts_out.append([token.lemma_ for token in doc if token.pos_ in allowed_postags])\n",
    "    return texts_out"
   ]
  },
  {
   "cell_type": "code",
   "execution_count": 32,
   "metadata": {},
   "outputs": [],
   "source": [
    "data_words_nostops = remove_stopwords(data_words)\n",
    "\n",
    "data_words_bigrams = make_bigrams(data_words_nostops)\n",
    "\n",
    "nlp = spacy.load('en_core_web_sm', disable=['parser', 'ner'])\n",
    "\n",
    "data_lemmatized = lemmatization(data_words_bigrams, allowed_postags=['NOUN', 'ADJ', 'VERB', 'ADV'])"
   ]
  },
  {
   "cell_type": "code",
   "execution_count": 31,
   "metadata": {},
   "outputs": [],
   "source": [
    "id2word = corpora.Dictionary(data_lemmatized)\n",
    "\n",
    "texts = data_lemmatized\n",
    "\n",
    "corpus = [id2word.doc2bow(text) for text in texts]"
   ]
  },
  {
   "cell_type": "code",
   "execution_count": 22,
   "metadata": {},
   "outputs": [],
   "source": [
    "lda_model = gensim.models.ldamodel.LdaModel(corpus=corpus,\n",
    "                                           id2word=id2word,\n",
    "                                           num_topics=20, \n",
    "                                           random_state=100,\n",
    "                                           update_every=1,\n",
    "                                           chunksize=100,\n",
    "                                           passes=10,\n",
    "                                           alpha='auto',\n",
    "                                           per_word_topics=True)"
   ]
  },
  {
   "cell_type": "code",
   "execution_count": 39,
   "metadata": {},
   "outputs": [],
   "source": [
    "doc_lda = lda_model[corpus]"
   ]
  },
  {
   "cell_type": "code",
   "execution_count": 55,
   "metadata": {},
   "outputs": [
    {
     "name": "stdout",
     "output_type": "stream",
     "text": [
      "Topic: 0 Word: 0.010*\"precaution\" + 0.010*\"program\" + 0.010*\"people\" + 0.010*\"poorly\" + 0.010*\"possibility\" + 0.010*\"oral\" + 0.010*\"really\" + 0.010*\"publication\" + 0.010*\"open\" + 0.010*\"public\"\n",
      "Topic: 1 Word: 0.013*\"say\" + 0.012*\"transmission\" + 0.012*\"evidence\" + 0.011*\"emerge\" + 0.011*\"regard\" + 0.011*\"have\" + 0.011*\"look\" + 0.011*\"virus\" + 0.011*\"people\" + 0.011*\"need\"\n",
      "Topic: 2 Word: 0.010*\"say\" + 0.010*\"transmission\" + 0.010*\"evidence\" + 0.010*\"field\" + 0.010*\"have\" + 0.010*\"look\" + 0.010*\"letter\" + 0.010*\"tell\" + 0.010*\"people\" + 0.010*\"covid\"\n",
      "Topic: 3 Word: 0.010*\"precaution\" + 0.010*\"program\" + 0.010*\"people\" + 0.010*\"poorly\" + 0.010*\"possibility\" + 0.010*\"oral\" + 0.010*\"really\" + 0.010*\"publication\" + 0.010*\"open\" + 0.010*\"public\"\n",
      "Topic: 4 Word: 0.010*\"precaution\" + 0.010*\"program\" + 0.010*\"people\" + 0.010*\"poorly\" + 0.010*\"possibility\" + 0.010*\"oral\" + 0.010*\"really\" + 0.010*\"publication\" + 0.010*\"open\" + 0.010*\"public\"\n",
      "Topic: 5 Word: 0.010*\"precaution\" + 0.010*\"program\" + 0.010*\"people\" + 0.010*\"poorly\" + 0.010*\"possibility\" + 0.010*\"oral\" + 0.010*\"really\" + 0.010*\"publication\" + 0.010*\"open\" + 0.010*\"public\"\n",
      "Topic: 6 Word: 0.010*\"precaution\" + 0.010*\"program\" + 0.010*\"people\" + 0.010*\"poorly\" + 0.010*\"possibility\" + 0.010*\"oral\" + 0.010*\"really\" + 0.010*\"publication\" + 0.010*\"open\" + 0.010*\"public\"\n",
      "Topic: 7 Word: 0.012*\"say\" + 0.011*\"transmission\" + 0.011*\"evidence\" + 0.011*\"have\" + 0.011*\"airborne\" + 0.011*\"covid\" + 0.011*\"look\" + 0.011*\"virus\" + 0.011*\"people\" + 0.011*\"emerge\"\n",
      "Topic: 8 Word: 0.051*\"say\" + 0.045*\"transmission\" + 0.032*\"evidence\" + 0.026*\"look\" + 0.026*\"have\" + 0.019*\"field\" + 0.019*\"need\" + 0.019*\"covid\" + 0.019*\"airborne\" + 0.019*\"letter\"\n",
      "Topic: 9 Word: 0.011*\"transmission\" + 0.011*\"say\" + 0.011*\"have\" + 0.011*\"evidence\" + 0.011*\"virus\" + 0.011*\"look\" + 0.010*\"need\" + 0.010*\"field\" + 0.010*\"covid\" + 0.010*\"letter\"\n",
      "Topic: 10 Word: 0.010*\"precaution\" + 0.010*\"program\" + 0.010*\"people\" + 0.010*\"poorly\" + 0.010*\"possibility\" + 0.010*\"oral\" + 0.010*\"really\" + 0.010*\"publication\" + 0.010*\"open\" + 0.010*\"public\"\n",
      "Topic: 11 Word: 0.010*\"precaution\" + 0.010*\"program\" + 0.010*\"people\" + 0.010*\"poorly\" + 0.010*\"possibility\" + 0.010*\"oral\" + 0.010*\"really\" + 0.010*\"publication\" + 0.010*\"open\" + 0.010*\"public\"\n",
      "Topic: 12 Word: 0.010*\"say\" + 0.010*\"transmission\" + 0.010*\"evidence\" + 0.010*\"have\" + 0.010*\"look\" + 0.010*\"covid\" + 0.010*\"letter\" + 0.010*\"people\" + 0.010*\"droplet\" + 0.010*\"need\"\n",
      "Topic: 13 Word: 0.010*\"precaution\" + 0.010*\"program\" + 0.010*\"people\" + 0.010*\"poorly\" + 0.010*\"possibility\" + 0.010*\"oral\" + 0.010*\"really\" + 0.010*\"publication\" + 0.010*\"open\" + 0.010*\"public\"\n",
      "Topic: 14 Word: 0.011*\"transmission\" + 0.011*\"say\" + 0.010*\"evidence\" + 0.010*\"people\" + 0.010*\"covid\" + 0.010*\"need\" + 0.010*\"letter\" + 0.010*\"look\" + 0.010*\"virus\" + 0.010*\"field\"\n",
      "Topic: 15 Word: 0.010*\"precaution\" + 0.010*\"program\" + 0.010*\"people\" + 0.010*\"poorly\" + 0.010*\"possibility\" + 0.010*\"oral\" + 0.010*\"really\" + 0.010*\"publication\" + 0.010*\"open\" + 0.010*\"public\"\n",
      "Topic: 16 Word: 0.011*\"transmission\" + 0.011*\"evidence\" + 0.011*\"say\" + 0.010*\"have\" + 0.010*\"virus\" + 0.010*\"letter\" + 0.010*\"airborne\" + 0.010*\"covid\" + 0.010*\"field\" + 0.010*\"need\"\n",
      "Topic: 17 Word: 0.010*\"precaution\" + 0.010*\"program\" + 0.010*\"people\" + 0.010*\"poorly\" + 0.010*\"possibility\" + 0.010*\"oral\" + 0.010*\"really\" + 0.010*\"publication\" + 0.010*\"open\" + 0.010*\"public\"\n",
      "Topic: 18 Word: 0.010*\"precaution\" + 0.010*\"program\" + 0.010*\"people\" + 0.010*\"poorly\" + 0.010*\"possibility\" + 0.010*\"oral\" + 0.010*\"really\" + 0.010*\"publication\" + 0.010*\"open\" + 0.010*\"public\"\n",
      "Topic: 19 Word: 0.012*\"say\" + 0.012*\"transmission\" + 0.011*\"evidence\" + 0.011*\"have\" + 0.011*\"look\" + 0.011*\"letter\" + 0.011*\"covid\" + 0.011*\"field\" + 0.011*\"regard\" + 0.011*\"expert\"\n"
     ]
    }
   ],
   "source": [
    "for idx, topic in lda_model.print_topics(-1):\n",
    "    print('Topic: {} Word: {}'.format(idx, topic))"
   ]
  }
 ],
 "metadata": {
  "kernelspec": {
   "display_name": "Python 3",
   "language": "python",
   "name": "python3"
  },
  "language_info": {
   "codemirror_mode": {
    "name": "ipython",
    "version": 3
   },
   "file_extension": ".py",
   "mimetype": "text/x-python",
   "name": "python",
   "nbconvert_exporter": "python",
   "pygments_lexer": "ipython3",
   "version": "3.7.3"
  }
 },
 "nbformat": 4,
 "nbformat_minor": 2
}
