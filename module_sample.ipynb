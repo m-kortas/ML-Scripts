{
 "cells": [
  {
   "cell_type": "code",
   "execution_count": null,
   "metadata": {},
   "outputs": [],
   "source": [
    "class model():\n",
    "      \n",
    "        def __init__(self, model_file, scaler_file):\n",
    "            with open('model','rb') as model_file, open('scaler', 'rb') as scaler_file:\n",
    "                self.reg = pickle.load(model_file)\n",
    "                self.data = None\n",
    "        \n",
    "        def load_and_clean_data(self, data_file):\n",
    "            df = pd.read_csv(data_file,delimiter=',')\n",
    "            self.data\n",
    "\n",
    "        def predicted_outputs(self):\n",
    "            if (self.data is not None):\n",
    "                self.preprocessed_data['Probability'] = self.reg.predict_proba(self.data)[:,1]\n",
    "                self.preprocessed_data ['Prediction'] = self.reg.predict(self.data)\n",
    "                return self.preprocessed_data"
   ]
  }
 ],
 "metadata": {
  "kernelspec": {
   "display_name": "Python 3",
   "language": "python",
   "name": "python3"
  },
  "language_info": {
   "codemirror_mode": {
    "name": "ipython",
    "version": 3
   },
   "file_extension": ".py",
   "mimetype": "text/x-python",
   "name": "python",
   "nbconvert_exporter": "python",
   "pygments_lexer": "ipython3",
   "version": "3.7.3"
  }
 },
 "nbformat": 4,
 "nbformat_minor": 2
}
